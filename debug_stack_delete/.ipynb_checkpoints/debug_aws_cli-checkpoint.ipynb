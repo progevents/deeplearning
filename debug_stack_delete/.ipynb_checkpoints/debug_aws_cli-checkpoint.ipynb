{
 "cells": [
  {
   "cell_type": "code",
   "execution_count": 2,
   "id": "343315f4",
   "metadata": {},
   "outputs": [
    {
     "name": "stdout",
     "output_type": "stream",
     "text": [
      "commands: ['activate-type', 'batch-describe-type-configurations', 'cancel-update-stack', 'continue-update-rollback', 'create-change-set', 'create-stack', 'create-stack-instances', 'create-stack-set', 'deactivate-type', 'delete-change-set', 'delete-stack', 'delete-stack-instances', 'delete-stack-set', 'deregister-type', 'describe-account-limits', 'describe-change-set', 'describe-change-set-hooks', 'describe-publisher', 'describe-stack-drift-detection-status', 'describe-stack-events', 'describe-stack-instance', 'describe-stack-resource', 'describe-stack-resource-drifts', 'describe-stack-resources', 'describe-stack-set', 'describe-stack-set-operation', 'describe-stacks', 'describe-type', 'describe-type-registration', 'detect-stack-drift', 'detect-stack-resource-drift', 'detect-stack-set-drift', 'estimate-template-cost', 'execute-change-set', 'get-stack-policy', 'get-template', 'get-template-summary', 'import-stacks-to-stack-set', 'list-change-sets', 'list-exports', 'list-imports', 'list-stack-instances', 'list-stack-resources', 'list-stack-set-operation-results', 'list-stack-set-operations', 'list-stack-sets', 'list-stacks', 'list-type-registrations', 'list-type-versions', 'list-types', 'publish-type', 'record-handler-progress', 'register-publisher', 'register-type', 'rollback-stack', 'set-stack-policy', 'set-type-configuration', 'set-type-default-version', 'signal-resource', 'stop-stack-set-operation', 'test-type', 'update-stack', 'update-stack-instances', 'update-stack-set', 'update-termination-protection', 'validate-template']\n",
      "bashCommand: aws cloudformation activate-type\n"
     ]
    },
    {
     "name": "stderr",
     "output_type": "stream",
     "text": [
      "\n",
      "An error occurred (ValidationError) when calling the ActivateType operation: Please use arn or specify a type\n"
     ]
    },
    {
     "name": "stdout",
     "output_type": "stream",
     "text": [
      "output: \n",
      "error: None\n",
      "------------\n",
      "bashCommand: aws cloudformation batch-describe-type-configurations\n"
     ]
    },
    {
     "name": "stderr",
     "output_type": "stream",
     "text": [
      "\n",
      "usage: aws [options] <command> <subcommand> [<subcommand> ...] [parameters]\n",
      "To see help text, you can run:\n",
      "\n",
      "  aws help\n",
      "  aws <command> help\n",
      "  aws <command> <subcommand> help\n",
      "\n",
      "aws: error: the following arguments are required: --type-configuration-identifiers\n",
      "\n"
     ]
    },
    {
     "name": "stdout",
     "output_type": "stream",
     "text": [
      "output: \n",
      "error: None\n",
      "------------\n",
      "bashCommand: aws cloudformation cancel-update-stack\n"
     ]
    },
    {
     "name": "stderr",
     "output_type": "stream",
     "text": [
      "\n",
      "usage: aws [options] <command> <subcommand> [<subcommand> ...] [parameters]\n",
      "To see help text, you can run:\n",
      "\n",
      "  aws help\n",
      "  aws <command> help\n",
      "  aws <command> <subcommand> help\n",
      "\n",
      "aws: error: the following arguments are required: --stack-name\n",
      "\n"
     ]
    },
    {
     "name": "stdout",
     "output_type": "stream",
     "text": [
      "output: \n",
      "error: None\n",
      "------------\n",
      "bashCommand: aws cloudformation continue-update-rollback\n"
     ]
    },
    {
     "name": "stderr",
     "output_type": "stream",
     "text": [
      "\n",
      "usage: aws [options] <command> <subcommand> [<subcommand> ...] [parameters]\n",
      "To see help text, you can run:\n",
      "\n",
      "  aws help\n",
      "  aws <command> help\n",
      "  aws <command> <subcommand> help\n",
      "\n",
      "aws: error: the following arguments are required: --stack-name\n",
      "\n"
     ]
    },
    {
     "name": "stdout",
     "output_type": "stream",
     "text": [
      "output: \n",
      "error: None\n",
      "------------\n",
      "bashCommand: aws cloudformation create-change-set\n"
     ]
    },
    {
     "name": "stderr",
     "output_type": "stream",
     "text": [
      "\n",
      "usage: aws [options] <command> <subcommand> [<subcommand> ...] [parameters]\n",
      "To see help text, you can run:\n",
      "\n",
      "  aws help\n",
      "  aws <command> help\n",
      "  aws <command> <subcommand> help\n",
      "\n",
      "aws: error: the following arguments are required: --stack-name, --change-set-name\n",
      "\n"
     ]
    },
    {
     "name": "stdout",
     "output_type": "stream",
     "text": [
      "output: \n",
      "error: None\n",
      "------------\n",
      "bashCommand: aws cloudformation create-stack\n"
     ]
    },
    {
     "name": "stderr",
     "output_type": "stream",
     "text": [
      "\n",
      "usage: aws [options] <command> <subcommand> [<subcommand> ...] [parameters]\n",
      "To see help text, you can run:\n",
      "\n",
      "  aws help\n",
      "  aws <command> help\n",
      "  aws <command> <subcommand> help\n",
      "\n",
      "aws: error: the following arguments are required: --stack-name\n",
      "\n"
     ]
    },
    {
     "name": "stdout",
     "output_type": "stream",
     "text": [
      "output: \n",
      "error: None\n",
      "------------\n",
      "bashCommand: aws cloudformation create-stack-instances\n"
     ]
    },
    {
     "name": "stderr",
     "output_type": "stream",
     "text": [
      "\n",
      "usage: aws [options] <command> <subcommand> [<subcommand> ...] [parameters]\n",
      "To see help text, you can run:\n",
      "\n",
      "  aws help\n",
      "  aws <command> help\n",
      "  aws <command> <subcommand> help\n",
      "\n",
      "aws: error: the following arguments are required: --stack-set-name, --regions\n",
      "\n"
     ]
    },
    {
     "name": "stdout",
     "output_type": "stream",
     "text": [
      "output: \n",
      "error: None\n",
      "------------\n",
      "bashCommand: aws cloudformation create-stack-set\n"
     ]
    },
    {
     "name": "stderr",
     "output_type": "stream",
     "text": [
      "\n",
      "usage: aws [options] <command> <subcommand> [<subcommand> ...] [parameters]\n",
      "To see help text, you can run:\n",
      "\n",
      "  aws help\n",
      "  aws <command> help\n",
      "  aws <command> <subcommand> help\n",
      "\n",
      "aws: error: the following arguments are required: --stack-set-name\n",
      "\n"
     ]
    },
    {
     "name": "stdout",
     "output_type": "stream",
     "text": [
      "output: \n",
      "error: None\n",
      "------------\n",
      "bashCommand: aws cloudformation deactivate-type\n"
     ]
    },
    {
     "name": "stderr",
     "output_type": "stream",
     "text": [
      "\n",
      "An error occurred (CFNRegistryException) when calling the DeactivateType operation: Please use arn or specify a type\n"
     ]
    },
    {
     "name": "stdout",
     "output_type": "stream",
     "text": [
      "output: \n",
      "error: None\n",
      "------------\n",
      "bashCommand: aws cloudformation delete-change-set\n"
     ]
    },
    {
     "name": "stderr",
     "output_type": "stream",
     "text": [
      "\n",
      "usage: aws [options] <command> <subcommand> [<subcommand> ...] [parameters]\n",
      "To see help text, you can run:\n",
      "\n",
      "  aws help\n",
      "  aws <command> help\n",
      "  aws <command> <subcommand> help\n",
      "\n",
      "aws: error: the following arguments are required: --change-set-name\n",
      "\n"
     ]
    },
    {
     "name": "stdout",
     "output_type": "stream",
     "text": [
      "output: \n",
      "error: None\n",
      "------------\n",
      "bashCommand: aws cloudformation delete-stack\n"
     ]
    },
    {
     "name": "stderr",
     "output_type": "stream",
     "text": [
      "\n",
      "usage: aws [options] <command> <subcommand> [<subcommand> ...] [parameters]\n",
      "To see help text, you can run:\n",
      "\n",
      "  aws help\n",
      "  aws <command> help\n",
      "  aws <command> <subcommand> help\n",
      "\n",
      "aws: error: the following arguments are required: --stack-name\n",
      "\n"
     ]
    },
    {
     "name": "stdout",
     "output_type": "stream",
     "text": [
      "output: \n",
      "error: None\n",
      "------------\n",
      "bashCommand: aws cloudformation delete-stack-instances\n"
     ]
    },
    {
     "name": "stderr",
     "output_type": "stream",
     "text": [
      "\n",
      "usage: aws [options] <command> <subcommand> [<subcommand> ...] [parameters]\n",
      "To see help text, you can run:\n",
      "\n",
      "  aws help\n",
      "  aws <command> help\n",
      "  aws <command> <subcommand> help\n",
      "\n",
      "aws: error: the following arguments are required: --stack-set-name, --regions\n",
      "\n"
     ]
    },
    {
     "name": "stdout",
     "output_type": "stream",
     "text": [
      "output: \n",
      "error: None\n",
      "------------\n",
      "bashCommand: aws cloudformation delete-stack-set\n"
     ]
    },
    {
     "name": "stderr",
     "output_type": "stream",
     "text": [
      "\n",
      "usage: aws [options] <command> <subcommand> [<subcommand> ...] [parameters]\n",
      "To see help text, you can run:\n",
      "\n",
      "  aws help\n",
      "  aws <command> help\n",
      "  aws <command> <subcommand> help\n",
      "\n",
      "aws: error: the following arguments are required: --stack-set-name\n",
      "\n"
     ]
    },
    {
     "name": "stdout",
     "output_type": "stream",
     "text": [
      "output: \n",
      "error: None\n",
      "------------\n",
      "bashCommand: aws cloudformation deregister-type\n"
     ]
    },
    {
     "name": "stderr",
     "output_type": "stream",
     "text": [
      "\n",
      "An error occurred (CFNRegistryException) when calling the DeregisterType operation: Please use arn or specify a type\n"
     ]
    },
    {
     "name": "stdout",
     "output_type": "stream",
     "text": [
      "output: \n",
      "error: None\n",
      "------------\n",
      "bashCommand: aws cloudformation describe-account-limits\n",
      "output: {\n",
      "    \"AccountLimits\": [\n",
      "        {\n",
      "            \"Name\": \"StackLimit\",\n",
      "            \"Value\": 2000\n",
      "        },\n",
      "        {\n",
      "            \"Name\": \"StackOutputsLimit\",\n",
      "            \"Value\": 200\n",
      "        },\n",
      "        {\n",
      "            \"Name\": \"ConcurrentResourcesLimit\",\n",
      "            \"Value\": 8500\n",
      "        }\n",
      "    ]\n",
      "}\n",
      "\n",
      "error: None\n",
      "------------\n",
      "bashCommand: aws cloudformation describe-change-set\n"
     ]
    },
    {
     "name": "stderr",
     "output_type": "stream",
     "text": [
      "\n",
      "usage: aws [options] <command> <subcommand> [<subcommand> ...] [parameters]\n",
      "To see help text, you can run:\n",
      "\n",
      "  aws help\n",
      "  aws <command> help\n",
      "  aws <command> <subcommand> help\n",
      "\n",
      "aws: error: the following arguments are required: --change-set-name\n",
      "\n"
     ]
    },
    {
     "name": "stdout",
     "output_type": "stream",
     "text": [
      "output: \n",
      "error: None\n",
      "------------\n",
      "bashCommand: aws cloudformation describe-change-set-hooks\n"
     ]
    },
    {
     "name": "stderr",
     "output_type": "stream",
     "text": [
      "\n",
      "usage: aws [options] <command> <subcommand> [<subcommand> ...] [parameters]\n",
      "To see help text, you can run:\n",
      "\n",
      "  aws help\n",
      "  aws <command> help\n",
      "  aws <command> <subcommand> help\n",
      "\n",
      "aws: error: the following arguments are required: --change-set-name\n",
      "\n"
     ]
    },
    {
     "name": "stdout",
     "output_type": "stream",
     "text": [
      "output: \n",
      "error: None\n",
      "------------\n",
      "bashCommand: aws cloudformation describe-publisher\n"
     ]
    },
    {
     "name": "stderr",
     "output_type": "stream",
     "text": [
      "\n",
      "An error occurred (CFNRegistryException) when calling the DescribePublisher operation: The account [669059827483] is not registered as a publisher, if you want to describe a specific publisher, please specify the publisherID\n"
     ]
    },
    {
     "name": "stdout",
     "output_type": "stream",
     "text": [
      "output: \n",
      "error: None\n",
      "------------\n",
      "bashCommand: aws cloudformation describe-stack-drift-detection-status\n"
     ]
    },
    {
     "name": "stderr",
     "output_type": "stream",
     "text": [
      "\n",
      "usage: aws [options] <command> <subcommand> [<subcommand> ...] [parameters]\n",
      "To see help text, you can run:\n",
      "\n",
      "  aws help\n",
      "  aws <command> help\n",
      "  aws <command> <subcommand> help\n",
      "\n",
      "aws: error: the following arguments are required: --stack-drift-detection-id\n",
      "\n"
     ]
    },
    {
     "name": "stdout",
     "output_type": "stream",
     "text": [
      "output: \n",
      "error: None\n",
      "------------\n",
      "bashCommand: aws cloudformation describe-stack-events\n"
     ]
    },
    {
     "name": "stderr",
     "output_type": "stream",
     "text": [
      "\n",
      "An error occurred (ValidationError) when calling the DescribeStackEvents operation: 1 validation error detected: Value null at 'stackName' failed to satisfy constraint: Member must not be null\n"
     ]
    },
    {
     "name": "stdout",
     "output_type": "stream",
     "text": [
      "output: \n",
      "error: None\n",
      "------------\n",
      "bashCommand: aws cloudformation describe-stack-instance\n"
     ]
    },
    {
     "name": "stderr",
     "output_type": "stream",
     "text": [
      "\n",
      "usage: aws [options] <command> <subcommand> [<subcommand> ...] [parameters]\n",
      "To see help text, you can run:\n",
      "\n",
      "  aws help\n",
      "  aws <command> help\n",
      "  aws <command> <subcommand> help\n",
      "\n",
      "aws: error: the following arguments are required: --stack-set-name, --stack-instance-account, --stack-instance-region\n",
      "\n"
     ]
    },
    {
     "name": "stdout",
     "output_type": "stream",
     "text": [
      "output: \n",
      "error: None\n",
      "------------\n",
      "bashCommand: aws cloudformation describe-stack-resource\n"
     ]
    },
    {
     "name": "stderr",
     "output_type": "stream",
     "text": [
      "\n",
      "usage: aws [options] <command> <subcommand> [<subcommand> ...] [parameters]\n",
      "To see help text, you can run:\n",
      "\n",
      "  aws help\n",
      "  aws <command> help\n",
      "  aws <command> <subcommand> help\n",
      "\n",
      "aws: error: the following arguments are required: --stack-name, --logical-resource-id\n",
      "\n"
     ]
    },
    {
     "name": "stdout",
     "output_type": "stream",
     "text": [
      "output: \n",
      "error: None\n",
      "------------\n",
      "bashCommand: aws cloudformation describe-stack-resource-drifts\n"
     ]
    },
    {
     "name": "stderr",
     "output_type": "stream",
     "text": [
      "\n",
      "usage: aws [options] <command> <subcommand> [<subcommand> ...] [parameters]\n",
      "To see help text, you can run:\n",
      "\n",
      "  aws help\n",
      "  aws <command> help\n",
      "  aws <command> <subcommand> help\n",
      "\n",
      "aws: error: the following arguments are required: --stack-name\n",
      "\n"
     ]
    },
    {
     "name": "stdout",
     "output_type": "stream",
     "text": [
      "output: \n",
      "error: None\n",
      "------------\n",
      "bashCommand: aws cloudformation describe-stack-resources\n"
     ]
    },
    {
     "name": "stderr",
     "output_type": "stream",
     "text": [
      "\n",
      "An error occurred (ValidationError) when calling the DescribeStackResources operation: Either StackName or PhysicalResourceId must be specified.\n"
     ]
    },
    {
     "name": "stdout",
     "output_type": "stream",
     "text": [
      "output: \n",
      "error: None\n",
      "------------\n",
      "bashCommand: aws cloudformation describe-stack-set\n"
     ]
    },
    {
     "name": "stderr",
     "output_type": "stream",
     "text": [
      "\n",
      "usage: aws [options] <command> <subcommand> [<subcommand> ...] [parameters]\n",
      "To see help text, you can run:\n",
      "\n",
      "  aws help\n",
      "  aws <command> help\n",
      "  aws <command> <subcommand> help\n",
      "\n",
      "aws: error: the following arguments are required: --stack-set-name\n",
      "\n"
     ]
    },
    {
     "name": "stdout",
     "output_type": "stream",
     "text": [
      "output: \n",
      "error: None\n",
      "------------\n",
      "bashCommand: aws cloudformation describe-stack-set-operation\n"
     ]
    },
    {
     "name": "stderr",
     "output_type": "stream",
     "text": [
      "\n",
      "usage: aws [options] <command> <subcommand> [<subcommand> ...] [parameters]\n",
      "To see help text, you can run:\n",
      "\n",
      "  aws help\n",
      "  aws <command> help\n",
      "  aws <command> <subcommand> help\n",
      "\n",
      "aws: error: the following arguments are required: --stack-set-name, --operation-id\n",
      "\n"
     ]
    },
    {
     "name": "stdout",
     "output_type": "stream",
     "text": [
      "output: \n",
      "error: None\n",
      "------------\n",
      "bashCommand: aws cloudformation describe-stacks\n",
      "output: {\n",
      "    \"Stacks\": [\n",
      "        {\n",
      "            \"StackId\": \"arn:aws:cloudformation:us-west-2:669059827483:stack/FirstProjectStack/6c0931d0-4b67-11ed-b84b-0223cb6273a7\",\n",
      "            \"StackName\": \"FirstProjectStack\",\n",
      "            \"Parameters\": [\n",
      "                {\n",
      "                    \"ParameterKey\": \"BootstrapVersion\",\n",
      "                    \"ParameterValue\": \"/cdk-bootstrap/hnb659fds/version\",\n",
      "                    \"ResolvedValue\": \"14\"\n",
      "                }\n",
      "            ],\n",
      "            \"CreationTime\": \"2022-10-14T02:25:08.698000+00:00\",\n",
      "            \"DeletionTime\": \"2022-10-15T04:03:09.701000+00:00\",\n",
      "            \"LastUpdatedTime\": \"2022-10-14T02:25:14.576000+00:00\",\n",
      "            \"RollbackConfiguration\": {},\n",
      "            \"StackStatus\": \"DELETE_FAILED\",\n",
      "            \"StackStatusReason\": \"The following resource(s) failed to delete: [FirstProjectQueue78A97249]. \",\n",
      "            \"DisableRollback\": false,\n",
      "            \"NotificationARNs\": [],\n",
      "            \"Capabilities\": [\n",
      "                \"CAPABILITY_IAM\",\n",
      "                \"CAPABILITY_NAMED_IAM\",\n",
      "                \"CAPABILITY_AUTO_EXPAND\"\n",
      "            ],\n",
      "            \"RoleARN\": \"arn:aws:iam::669059827483:role/cdk-hnb659fds-cfn-exec-role-669059827483-us-west-2\",\n",
      "            \"Tags\": [],\n",
      "            \"DriftInformation\": {\n",
      "                \"StackDriftStatus\": \"IN_SYNC\",\n",
      "                \"LastCheckTimestamp\": \"2022-10-15T04:03:01.895000+00:00\"\n",
      "            }\n",
      "        },\n",
      "        {\n",
      "            \"StackId\": \"arn:aws:cloudformation:us-west-2:669059827483:stack/S3Stack/339e5560-4b43-11ed-9a10-02d873036edd\",\n",
      "            \"StackName\": \"S3Stack\",\n",
      "            \"Parameters\": [\n",
      "                {\n",
      "                    \"ParameterKey\": \"BootstrapVersion\",\n",
      "                    \"ParameterValue\": \"/cdk-bootstrap/hnb659fds/version\",\n",
      "                    \"ResolvedValue\": \"14\"\n",
      "                }\n",
      "            ],\n",
      "            \"CreationTime\": \"2022-10-13T22:05:52.164000+00:00\",\n",
      "            \"DeletionTime\": \"2022-10-15T04:03:12.666000+00:00\",\n",
      "            \"LastUpdatedTime\": \"2022-10-13T22:05:58.041000+00:00\",\n",
      "            \"RollbackConfiguration\": {},\n",
      "            \"StackStatus\": \"DELETE_FAILED\",\n",
      "            \"StackStatusReason\": \"The following resource(s) failed to delete: [S3Queue0CC1F6BF]. \",\n",
      "            \"DisableRollback\": false,\n",
      "            \"NotificationARNs\": [],\n",
      "            \"Capabilities\": [\n",
      "                \"CAPABILITY_IAM\",\n",
      "                \"CAPABILITY_NAMED_IAM\",\n",
      "                \"CAPABILITY_AUTO_EXPAND\"\n",
      "            ],\n",
      "            \"RoleARN\": \"arn:aws:iam::669059827483:role/cdk-hnb659fds-cfn-exec-role-669059827483-us-west-2\",\n",
      "            \"Tags\": [],\n",
      "            \"DriftInformation\": {\n",
      "                \"StackDriftStatus\": \"NOT_CHECKED\"\n",
      "            }\n",
      "        }\n",
      "    ]\n",
      "}\n",
      "\n",
      "error: None\n",
      "------------\n",
      "bashCommand: aws cloudformation describe-type\n"
     ]
    },
    {
     "name": "stderr",
     "output_type": "stream",
     "text": [
      "\n",
      "An error occurred (CFNRegistryException) when calling the DescribeType operation: The input should be one of ARN or Type Name (and optional version ID, or publisherId with optional publicVersionNumber)\n"
     ]
    },
    {
     "name": "stdout",
     "output_type": "stream",
     "text": [
      "output: \n",
      "error: None\n",
      "------------\n",
      "bashCommand: aws cloudformation describe-type-registration\n"
     ]
    },
    {
     "name": "stderr",
     "output_type": "stream",
     "text": [
      "\n",
      "usage: aws [options] <command> <subcommand> [<subcommand> ...] [parameters]\n",
      "To see help text, you can run:\n",
      "\n",
      "  aws help\n",
      "  aws <command> help\n",
      "  aws <command> <subcommand> help\n",
      "\n",
      "aws: error: the following arguments are required: --registration-token\n",
      "\n"
     ]
    },
    {
     "name": "stdout",
     "output_type": "stream",
     "text": [
      "output: \n",
      "error: None\n",
      "------------\n",
      "bashCommand: aws cloudformation detect-stack-drift\n"
     ]
    },
    {
     "name": "stderr",
     "output_type": "stream",
     "text": [
      "\n",
      "usage: aws [options] <command> <subcommand> [<subcommand> ...] [parameters]\n",
      "To see help text, you can run:\n",
      "\n",
      "  aws help\n",
      "  aws <command> help\n",
      "  aws <command> <subcommand> help\n",
      "\n",
      "aws: error: the following arguments are required: --stack-name\n",
      "\n"
     ]
    },
    {
     "name": "stdout",
     "output_type": "stream",
     "text": [
      "output: \n",
      "error: None\n",
      "------------\n",
      "bashCommand: aws cloudformation detect-stack-resource-drift\n"
     ]
    },
    {
     "name": "stderr",
     "output_type": "stream",
     "text": [
      "\n",
      "usage: aws [options] <command> <subcommand> [<subcommand> ...] [parameters]\n",
      "To see help text, you can run:\n",
      "\n",
      "  aws help\n",
      "  aws <command> help\n",
      "  aws <command> <subcommand> help\n",
      "\n",
      "aws: error: the following arguments are required: --stack-name, --logical-resource-id\n",
      "\n"
     ]
    },
    {
     "name": "stdout",
     "output_type": "stream",
     "text": [
      "output: \n",
      "error: None\n",
      "------------\n",
      "bashCommand: aws cloudformation detect-stack-set-drift\n"
     ]
    },
    {
     "name": "stderr",
     "output_type": "stream",
     "text": [
      "\n",
      "usage: aws [options] <command> <subcommand> [<subcommand> ...] [parameters]\n",
      "To see help text, you can run:\n",
      "\n",
      "  aws help\n",
      "  aws <command> help\n",
      "  aws <command> <subcommand> help\n",
      "\n",
      "aws: error: the following arguments are required: --stack-set-name\n",
      "\n"
     ]
    },
    {
     "name": "stdout",
     "output_type": "stream",
     "text": [
      "output: \n",
      "error: None\n",
      "------------\n",
      "bashCommand: aws cloudformation estimate-template-cost\n"
     ]
    },
    {
     "name": "stderr",
     "output_type": "stream",
     "text": [
      "\n",
      "An error occurred (ValidationError) when calling the EstimateTemplateCost operation: Either Template URL or Template Body must be specified.\n"
     ]
    },
    {
     "name": "stdout",
     "output_type": "stream",
     "text": [
      "output: \n",
      "error: None\n",
      "------------\n",
      "bashCommand: aws cloudformation execute-change-set\n"
     ]
    },
    {
     "name": "stderr",
     "output_type": "stream",
     "text": [
      "\n",
      "usage: aws [options] <command> <subcommand> [<subcommand> ...] [parameters]\n",
      "To see help text, you can run:\n",
      "\n",
      "  aws help\n",
      "  aws <command> help\n",
      "  aws <command> <subcommand> help\n",
      "\n",
      "aws: error: the following arguments are required: --change-set-name\n",
      "\n"
     ]
    },
    {
     "name": "stdout",
     "output_type": "stream",
     "text": [
      "output: \n",
      "error: None\n",
      "------------\n",
      "bashCommand: aws cloudformation get-stack-policy\n"
     ]
    },
    {
     "name": "stderr",
     "output_type": "stream",
     "text": [
      "\n",
      "usage: aws [options] <command> <subcommand> [<subcommand> ...] [parameters]\n",
      "To see help text, you can run:\n",
      "\n",
      "  aws help\n",
      "  aws <command> help\n",
      "  aws <command> <subcommand> help\n",
      "\n",
      "aws: error: the following arguments are required: --stack-name\n",
      "\n"
     ]
    },
    {
     "name": "stdout",
     "output_type": "stream",
     "text": [
      "output: \n",
      "error: None\n",
      "------------\n",
      "bashCommand: aws cloudformation get-template\n"
     ]
    },
    {
     "name": "stderr",
     "output_type": "stream",
     "text": [
      "\n",
      "An error occurred (ValidationError) when calling the GetTemplate operation: StackName is required if ChangeSetName is not specified.\n"
     ]
    },
    {
     "name": "stdout",
     "output_type": "stream",
     "text": [
      "output: \n",
      "error: None\n",
      "------------\n",
      "bashCommand: aws cloudformation get-template-summary\n"
     ]
    },
    {
     "name": "stderr",
     "output_type": "stream",
     "text": [
      "\n",
      "An error occurred (ValidationError) when calling the GetTemplateSummary operation: Exactly one of Template URL, Template Body, Stack Name must be specified.\n"
     ]
    },
    {
     "name": "stdout",
     "output_type": "stream",
     "text": [
      "output: \n",
      "error: None\n",
      "------------\n",
      "bashCommand: aws cloudformation import-stacks-to-stack-set\n"
     ]
    },
    {
     "name": "stderr",
     "output_type": "stream",
     "text": [
      "\n",
      "usage: aws [options] <command> <subcommand> [<subcommand> ...] [parameters]\n",
      "To see help text, you can run:\n",
      "\n",
      "  aws help\n",
      "  aws <command> help\n",
      "  aws <command> <subcommand> help\n",
      "\n",
      "aws: error: the following arguments are required: --stack-set-name\n",
      "\n"
     ]
    },
    {
     "name": "stdout",
     "output_type": "stream",
     "text": [
      "output: \n",
      "error: None\n",
      "------------\n",
      "bashCommand: aws cloudformation list-change-sets\n"
     ]
    },
    {
     "name": "stderr",
     "output_type": "stream",
     "text": [
      "\n",
      "usage: aws [options] <command> <subcommand> [<subcommand> ...] [parameters]\n",
      "To see help text, you can run:\n",
      "\n",
      "  aws help\n",
      "  aws <command> help\n",
      "  aws <command> <subcommand> help\n",
      "\n",
      "aws: error: the following arguments are required: --stack-name\n",
      "\n"
     ]
    },
    {
     "name": "stdout",
     "output_type": "stream",
     "text": [
      "output: \n",
      "error: None\n",
      "------------\n",
      "bashCommand: aws cloudformation list-exports\n",
      "output: {\n",
      "    \"Exports\": []\n",
      "}\n",
      "\n",
      "error: None\n",
      "------------\n",
      "bashCommand: aws cloudformation list-imports\n"
     ]
    },
    {
     "name": "stderr",
     "output_type": "stream",
     "text": [
      "\n",
      "usage: aws [options] <command> <subcommand> [<subcommand> ...] [parameters]\n",
      "To see help text, you can run:\n",
      "\n",
      "  aws help\n",
      "  aws <command> help\n",
      "  aws <command> <subcommand> help\n",
      "\n",
      "aws: error: the following arguments are required: --export-name\n",
      "\n"
     ]
    },
    {
     "name": "stdout",
     "output_type": "stream",
     "text": [
      "output: \n",
      "error: None\n",
      "------------\n",
      "bashCommand: aws cloudformation list-stack-instances\n"
     ]
    },
    {
     "name": "stderr",
     "output_type": "stream",
     "text": [
      "\n",
      "usage: aws [options] <command> <subcommand> [<subcommand> ...] [parameters]\n",
      "To see help text, you can run:\n",
      "\n",
      "  aws help\n",
      "  aws <command> help\n",
      "  aws <command> <subcommand> help\n",
      "\n",
      "aws: error: the following arguments are required: --stack-set-name\n",
      "\n"
     ]
    },
    {
     "name": "stdout",
     "output_type": "stream",
     "text": [
      "output: \n",
      "error: None\n",
      "------------\n",
      "bashCommand: aws cloudformation list-stack-resources\n"
     ]
    },
    {
     "name": "stderr",
     "output_type": "stream",
     "text": [
      "\n",
      "usage: aws [options] <command> <subcommand> [<subcommand> ...] [parameters]\n",
      "To see help text, you can run:\n",
      "\n",
      "  aws help\n",
      "  aws <command> help\n",
      "  aws <command> <subcommand> help\n",
      "\n",
      "aws: error: the following arguments are required: --stack-name\n",
      "\n"
     ]
    },
    {
     "name": "stdout",
     "output_type": "stream",
     "text": [
      "output: \n",
      "error: None\n",
      "------------\n",
      "bashCommand: aws cloudformation list-stack-set-operation-results\n"
     ]
    },
    {
     "name": "stderr",
     "output_type": "stream",
     "text": [
      "\n",
      "usage: aws [options] <command> <subcommand> [<subcommand> ...] [parameters]\n",
      "To see help text, you can run:\n",
      "\n",
      "  aws help\n",
      "  aws <command> help\n",
      "  aws <command> <subcommand> help\n",
      "\n",
      "aws: error: the following arguments are required: --stack-set-name, --operation-id\n",
      "\n"
     ]
    },
    {
     "name": "stdout",
     "output_type": "stream",
     "text": [
      "output: \n",
      "error: None\n",
      "------------\n",
      "bashCommand: aws cloudformation list-stack-set-operations\n"
     ]
    },
    {
     "name": "stderr",
     "output_type": "stream",
     "text": [
      "\n",
      "usage: aws [options] <command> <subcommand> [<subcommand> ...] [parameters]\n",
      "To see help text, you can run:\n",
      "\n",
      "  aws help\n",
      "  aws <command> help\n",
      "  aws <command> <subcommand> help\n",
      "\n",
      "aws: error: the following arguments are required: --stack-set-name\n",
      "\n"
     ]
    },
    {
     "name": "stdout",
     "output_type": "stream",
     "text": [
      "output: \n",
      "error: None\n",
      "------------\n",
      "bashCommand: aws cloudformation list-stack-sets\n",
      "output: {\n",
      "    \"Summaries\": []\n",
      "}\n",
      "\n",
      "error: None\n",
      "------------\n",
      "bashCommand: aws cloudformation list-stacks\n",
      "output: {\n",
      "    \"StackSummaries\": [\n",
      "        {\n",
      "            \"StackId\": \"arn:aws:cloudformation:us-west-2:669059827483:stack/S3CdkStack/12751620-4c3e-11ed-9654-0a7e6a4feeb3\",\n",
      "            \"StackName\": \"S3CdkStack\",\n",
      "            \"CreationTime\": \"2022-10-15T04:01:40.230000+00:00\",\n",
      "            \"LastUpdatedTime\": \"2022-10-15T04:01:46.328000+00:00\",\n",
      "            \"DeletionTime\": \"2022-10-15T04:03:06.211000+00:00\",\n",
      "            \"StackStatus\": \"DELETE_COMPLETE\",\n",
      "            \"DriftInformation\": {\n",
      "                \"StackDriftStatus\": \"NOT_CHECKED\"\n",
      "            }\n",
      "        },\n",
      "        {\n",
      "            \"StackId\": \"arn:aws:cloudformation:us-west-2:669059827483:stack/S3CdkStack/cd1ae000-4c3d-11ed-9039-061e64f77031\",\n",
      "            \"StackName\": \"S3CdkStack\",\n",
      "            \"CreationTime\": \"2022-10-15T03:59:43.873000+00:00\",\n",
      "            \"LastUpdatedTime\": \"2022-10-15T03:59:49.838000+00:00\",\n",
      "            \"DeletionTime\": \"2022-10-15T04:01:34.036000+00:00\",\n",
      "            \"StackStatus\": \"DELETE_COMPLETE\",\n",
      "            \"DriftInformation\": {\n",
      "                \"StackDriftStatus\": \"NOT_CHECKED\"\n",
      "            }\n",
      "        },\n",
      "        {\n",
      "            \"StackId\": \"arn:aws:cloudformation:us-west-2:669059827483:stack/FirstProjectStack/6c0931d0-4b67-11ed-b84b-0223cb6273a7\",\n",
      "            \"StackName\": \"FirstProjectStack\",\n",
      "            \"CreationTime\": \"2022-10-14T02:25:08.698000+00:00\",\n",
      "            \"LastUpdatedTime\": \"2022-10-14T02:25:14.576000+00:00\",\n",
      "            \"DeletionTime\": \"2022-10-15T04:03:09.701000+00:00\",\n",
      "            \"StackStatus\": \"DELETE_FAILED\",\n",
      "            \"StackStatusReason\": \"The following resource(s) failed to delete: [FirstProjectQueue78A97249]. \",\n",
      "            \"DriftInformation\": {\n",
      "                \"StackDriftStatus\": \"IN_SYNC\",\n",
      "                \"LastCheckTimestamp\": \"2022-10-15T04:03:01.895000+00:00\"\n",
      "            }\n",
      "        },\n",
      "        {\n",
      "            \"StackId\": \"arn:aws:cloudformation:us-west-2:669059827483:stack/S3Stack/339e5560-4b43-11ed-9a10-02d873036edd\",\n",
      "            \"StackName\": \"S3Stack\",\n",
      "            \"CreationTime\": \"2022-10-13T22:05:52.164000+00:00\",\n",
      "            \"LastUpdatedTime\": \"2022-10-13T22:05:58.041000+00:00\",\n",
      "            \"DeletionTime\": \"2022-10-15T04:03:12.666000+00:00\",\n",
      "            \"StackStatus\": \"DELETE_FAILED\",\n",
      "            \"StackStatusReason\": \"The following resource(s) failed to delete: [S3Queue0CC1F6BF]. \",\n",
      "            \"DriftInformation\": {\n",
      "                \"StackDriftStatus\": \"NOT_CHECKED\"\n",
      "            }\n",
      "        },\n",
      "        {\n",
      "            \"StackId\": \"arn:aws:cloudformation:us-west-2:669059827483:stack/CDKToolkit/f9a68d00-4b42-11ed-8a5a-02eeeaa0f20f\",\n",
      "            \"StackName\": \"CDKToolkit\",\n",
      "            \"TemplateDescription\": \"This stack includes resources needed to deploy AWS CDK apps into this environment\",\n",
      "            \"CreationTime\": \"2022-10-13T22:04:14.875000+00:00\",\n",
      "            \"LastUpdatedTime\": \"2022-10-13T22:04:20.986000+00:00\",\n",
      "            \"DeletionTime\": \"2022-10-15T04:03:15.749000+00:00\",\n",
      "            \"StackStatus\": \"DELETE_COMPLETE\",\n",
      "            \"DriftInformation\": {\n",
      "                \"StackDriftStatus\": \"NOT_CHECKED\"\n",
      "            }\n",
      "        },\n",
      "        {\n",
      "            \"StackId\": \"arn:aws:cloudformation:us-west-2:669059827483:stack/cdk-example-pipeline-pipeline/1fda8eb0-4ab0-11ed-ab61-06d25c8e700f\",\n",
      "            \"StackName\": \"cdk-example-pipeline-pipeline\",\n",
      "            \"CreationTime\": \"2022-10-13T04:33:03.046000+00:00\",\n",
      "            \"LastUpdatedTime\": \"2022-10-13T04:33:08.851000+00:00\",\n",
      "            \"DeletionTime\": \"2022-10-13T21:45:34.087000+00:00\",\n",
      "            \"StackStatus\": \"DELETE_COMPLETE\",\n",
      "            \"DriftInformation\": {\n",
      "                \"StackDriftStatus\": \"NOT_CHECKED\"\n",
      "            }\n",
      "        },\n",
      "        {\n",
      "            \"StackId\": \"arn:aws:cloudformation:us-west-2:669059827483:stack/cdk-example-pipeline-base/f4b5e640-4aae-11ed-a741-0202bb58eff9\",\n",
      "            \"StackName\": \"cdk-example-pipeline-base\",\n",
      "            \"CreationTime\": \"2022-10-13T04:29:03.869000+00:00\",\n",
      "            \"LastUpdatedTime\": \"2022-10-13T04:29:09.743000+00:00\",\n",
      "            \"DeletionTime\": \"2022-10-15T04:03:19.665000+00:00\",\n",
      "            \"StackStatus\": \"DELETE_COMPLETE\",\n",
      "            \"DriftInformation\": {\n",
      "                \"StackDriftStatus\": \"NOT_CHECKED\"\n",
      "            }\n",
      "        },\n",
      "        {\n",
      "            \"StackId\": \"arn:aws:cloudformation:us-west-2:669059827483:stack/CDKToolkit/aafe2200-4a64-11ed-b4f4-0a004ee55547\",\n",
      "            \"StackName\": \"CDKToolkit\",\n",
      "            \"TemplateDescription\": \"This stack includes resources needed to deploy AWS CDK apps into this environment\",\n",
      "            \"CreationTime\": \"2022-10-12T19:32:54.591000+00:00\",\n",
      "            \"LastUpdatedTime\": \"2022-10-12T19:33:00.850000+00:00\",\n",
      "            \"DeletionTime\": \"2022-10-13T21:45:43.529000+00:00\",\n",
      "            \"StackStatus\": \"DELETE_COMPLETE\",\n",
      "            \"DriftInformation\": {\n",
      "                \"StackDriftStatus\": \"NOT_CHECKED\"\n",
      "            }\n",
      "        },\n",
      "        {\n",
      "            \"StackId\": \"arn:aws:cloudformation:us-west-2:669059827483:stack/EC2ContainerService-testcluster/c20497f0-4560-11eb-97fa-06b95fe2dfef\",\n",
      "            \"StackName\": \"EC2ContainerService-testcluster\",\n",
      "            \"TemplateDescription\": \"AWS CloudFormation template to create a new VPC to work with Fargate in Create Cluster Wizard\\n\",\n",
      "            \"CreationTime\": \"2020-12-23T20:52:24.146000+00:00\",\n",
      "            \"DeletionTime\": \"2022-10-13T21:45:47.017000+00:00\",\n",
      "            \"StackStatus\": \"DELETE_COMPLETE\",\n",
      "            \"DriftInformation\": {\n",
      "                \"StackDriftStatus\": \"NOT_CHECKED\"\n",
      "            }\n",
      "        },\n",
      "        {\n",
      "            \"StackId\": \"arn:aws:cloudformation:us-west-2:669059827483:stack/amazon-ecs-cli-setup-tutorial/ecd11e10-448c-11eb-b92d-061af764af5d\",\n",
      "            \"StackName\": \"amazon-ecs-cli-setup-tutorial\",\n",
      "            \"TemplateDescription\": \"AWS CloudFormation template to create resources required to run tasks on an ECS cluster.\",\n",
      "            \"CreationTime\": \"2020-12-22T19:36:02.700000+00:00\",\n",
      "            \"DeletionTime\": \"2022-10-13T21:45:50.759000+00:00\",\n",
      "            \"StackStatus\": \"DELETE_COMPLETE\",\n",
      "            \"DriftInformation\": {\n",
      "                \"StackDriftStatus\": \"NOT_CHECKED\"\n",
      "            }\n",
      "        }\n",
      "    ]\n",
      "}\n",
      "\n",
      "error: None\n",
      "------------\n",
      "bashCommand: aws cloudformation list-type-registrations\n",
      "output: {\n",
      "    \"RegistrationTokenList\": []\n",
      "}\n",
      "\n",
      "error: None\n",
      "------------\n",
      "bashCommand: aws cloudformation list-type-versions\n"
     ]
    },
    {
     "name": "stderr",
     "output_type": "stream",
     "text": [
      "\n",
      "An error occurred (CFNRegistryException) when calling the ListTypeVersions operation: Please use arn or specify a type\n"
     ]
    },
    {
     "name": "stdout",
     "output_type": "stream",
     "text": [
      "output: \n",
      "error: None\n",
      "------------\n",
      "bashCommand: aws cloudformation list-types\n",
      "output: {\n",
      "    \"TypeSummaries\": []\n",
      "}\n",
      "\n",
      "error: None\n",
      "------------\n",
      "bashCommand: aws cloudformation publish-type\n"
     ]
    },
    {
     "name": "stderr",
     "output_type": "stream",
     "text": [
      "\n",
      "An error occurred (CFNRegistryException) when calling the PublishType operation: The input should be either ARN or TypeName for a Type\n"
     ]
    },
    {
     "name": "stdout",
     "output_type": "stream",
     "text": [
      "output: \n",
      "error: None\n",
      "------------\n",
      "bashCommand: aws cloudformation record-handler-progress\n"
     ]
    },
    {
     "name": "stderr",
     "output_type": "stream",
     "text": [
      "\n",
      "usage: aws [options] <command> <subcommand> [<subcommand> ...] [parameters]\n",
      "To see help text, you can run:\n",
      "\n",
      "  aws help\n",
      "  aws <command> help\n",
      "  aws <command> <subcommand> help\n",
      "\n",
      "aws: error: the following arguments are required: --bearer-token, --operation-status\n",
      "\n"
     ]
    },
    {
     "name": "stdout",
     "output_type": "stream",
     "text": [
      "output: \n",
      "error: None\n",
      "------------\n",
      "bashCommand: aws cloudformation register-publisher\n"
     ]
    },
    {
     "name": "stderr",
     "output_type": "stream",
     "text": [
      "\n",
      "An error occurred (CFNRegistryException) when calling the RegisterPublisher operation: Accepting terms and conditions is mandatory to register as a publisher. The terms and conditions can be found at s3://cloudformation-registry-documents/Terms_and_Conditions_for_AWS_CloudFormation_Registry_Publishers.pdf, please download and review it. Use --accept-terms-and-conditions to accept the terms and conditions during registration.\n"
     ]
    },
    {
     "name": "stdout",
     "output_type": "stream",
     "text": [
      "output: \n",
      "error: None\n",
      "------------\n",
      "bashCommand: aws cloudformation register-type\n"
     ]
    },
    {
     "name": "stderr",
     "output_type": "stream",
     "text": [
      "\n",
      "usage: aws [options] <command> <subcommand> [<subcommand> ...] [parameters]\n",
      "To see help text, you can run:\n",
      "\n",
      "  aws help\n",
      "  aws <command> help\n",
      "  aws <command> <subcommand> help\n",
      "\n",
      "aws: error: the following arguments are required: --type-name, --schema-handler-package\n",
      "\n"
     ]
    },
    {
     "name": "stdout",
     "output_type": "stream",
     "text": [
      "output: \n",
      "error: None\n",
      "------------\n",
      "bashCommand: aws cloudformation rollback-stack\n"
     ]
    },
    {
     "name": "stderr",
     "output_type": "stream",
     "text": [
      "\n",
      "usage: aws [options] <command> <subcommand> [<subcommand> ...] [parameters]\n",
      "To see help text, you can run:\n",
      "\n",
      "  aws help\n",
      "  aws <command> help\n",
      "  aws <command> <subcommand> help\n",
      "\n",
      "aws: error: the following arguments are required: --stack-name\n",
      "\n"
     ]
    },
    {
     "name": "stdout",
     "output_type": "stream",
     "text": [
      "output: \n",
      "error: None\n",
      "------------\n",
      "bashCommand: aws cloudformation set-stack-policy\n"
     ]
    },
    {
     "name": "stderr",
     "output_type": "stream",
     "text": [
      "\n",
      "usage: aws [options] <command> <subcommand> [<subcommand> ...] [parameters]\n",
      "To see help text, you can run:\n",
      "\n",
      "  aws help\n",
      "  aws <command> help\n",
      "  aws <command> <subcommand> help\n",
      "\n",
      "aws: error: the following arguments are required: --stack-name\n",
      "\n"
     ]
    },
    {
     "name": "stdout",
     "output_type": "stream",
     "text": [
      "output: \n",
      "error: None\n",
      "------------\n",
      "bashCommand: aws cloudformation set-type-configuration\n"
     ]
    },
    {
     "name": "stderr",
     "output_type": "stream",
     "text": [
      "\n",
      "usage: aws [options] <command> <subcommand> [<subcommand> ...] [parameters]\n",
      "To see help text, you can run:\n",
      "\n",
      "  aws help\n",
      "  aws <command> help\n",
      "  aws <command> <subcommand> help\n",
      "\n",
      "aws: error: the following arguments are required: --configuration\n",
      "\n"
     ]
    },
    {
     "name": "stdout",
     "output_type": "stream",
     "text": [
      "output: \n",
      "error: None\n",
      "------------\n",
      "bashCommand: aws cloudformation set-type-default-version\n"
     ]
    },
    {
     "name": "stderr",
     "output_type": "stream",
     "text": [
      "\n",
      "An error occurred (CFNRegistryException) when calling the SetTypeDefaultVersion operation: Please use arn or specify a type\n"
     ]
    },
    {
     "name": "stdout",
     "output_type": "stream",
     "text": [
      "output: \n",
      "error: None\n",
      "------------\n",
      "bashCommand: aws cloudformation signal-resource\n"
     ]
    },
    {
     "name": "stderr",
     "output_type": "stream",
     "text": [
      "\n",
      "usage: aws [options] <command> <subcommand> [<subcommand> ...] [parameters]\n",
      "To see help text, you can run:\n",
      "\n",
      "  aws help\n",
      "  aws <command> help\n",
      "  aws <command> <subcommand> help\n",
      "\n",
      "aws: error: the following arguments are required: --stack-name, --logical-resource-id, --unique-id, --status\n",
      "\n"
     ]
    },
    {
     "name": "stdout",
     "output_type": "stream",
     "text": [
      "output: \n",
      "error: None\n",
      "------------\n",
      "bashCommand: aws cloudformation stop-stack-set-operation\n"
     ]
    },
    {
     "name": "stderr",
     "output_type": "stream",
     "text": [
      "\n",
      "usage: aws [options] <command> <subcommand> [<subcommand> ...] [parameters]\n",
      "To see help text, you can run:\n",
      "\n",
      "  aws help\n",
      "  aws <command> help\n",
      "  aws <command> <subcommand> help\n",
      "\n",
      "aws: error: the following arguments are required: --stack-set-name, --operation-id\n",
      "\n"
     ]
    },
    {
     "name": "stdout",
     "output_type": "stream",
     "text": [
      "output: \n",
      "error: None\n",
      "------------\n",
      "bashCommand: aws cloudformation test-type\n"
     ]
    },
    {
     "name": "stderr",
     "output_type": "stream",
     "text": [
      "\n",
      "An error occurred (CFNRegistryException) when calling the TestType operation: The input should be one of ARN or Type Name (and optional version ID, or publisherId with optional publicVersionNumber)\n"
     ]
    },
    {
     "name": "stdout",
     "output_type": "stream",
     "text": [
      "output: \n",
      "error: None\n",
      "------------\n",
      "bashCommand: aws cloudformation update-stack\n"
     ]
    },
    {
     "name": "stderr",
     "output_type": "stream",
     "text": [
      "\n",
      "usage: aws [options] <command> <subcommand> [<subcommand> ...] [parameters]\n",
      "To see help text, you can run:\n",
      "\n",
      "  aws help\n",
      "  aws <command> help\n",
      "  aws <command> <subcommand> help\n",
      "\n",
      "aws: error: the following arguments are required: --stack-name\n",
      "\n"
     ]
    },
    {
     "name": "stdout",
     "output_type": "stream",
     "text": [
      "output: \n",
      "error: None\n",
      "------------\n",
      "bashCommand: aws cloudformation update-stack-instances\n"
     ]
    },
    {
     "name": "stderr",
     "output_type": "stream",
     "text": [
      "\n",
      "usage: aws [options] <command> <subcommand> [<subcommand> ...] [parameters]\n",
      "To see help text, you can run:\n",
      "\n",
      "  aws help\n",
      "  aws <command> help\n",
      "  aws <command> <subcommand> help\n",
      "\n",
      "aws: error: the following arguments are required: --stack-set-name, --regions\n",
      "\n"
     ]
    },
    {
     "name": "stdout",
     "output_type": "stream",
     "text": [
      "output: \n",
      "error: None\n",
      "------------\n",
      "bashCommand: aws cloudformation update-stack-set\n"
     ]
    },
    {
     "name": "stderr",
     "output_type": "stream",
     "text": [
      "\n",
      "usage: aws [options] <command> <subcommand> [<subcommand> ...] [parameters]\n",
      "To see help text, you can run:\n",
      "\n",
      "  aws help\n",
      "  aws <command> help\n",
      "  aws <command> <subcommand> help\n",
      "\n",
      "aws: error: the following arguments are required: --stack-set-name\n",
      "\n"
     ]
    },
    {
     "name": "stdout",
     "output_type": "stream",
     "text": [
      "output: \n",
      "error: None\n",
      "------------\n",
      "bashCommand: aws cloudformation update-termination-protection\n"
     ]
    },
    {
     "name": "stderr",
     "output_type": "stream",
     "text": [
      "\n",
      "usage: aws [options] <command> <subcommand> [<subcommand> ...] [parameters]\n",
      "To see help text, you can run:\n",
      "\n",
      "  aws help\n",
      "  aws <command> help\n",
      "  aws <command> <subcommand> help\n",
      "\n",
      "aws: error: the following arguments are required: --stack-name\n",
      "\n"
     ]
    },
    {
     "name": "stdout",
     "output_type": "stream",
     "text": [
      "output: \n",
      "error: None\n",
      "------------\n",
      "bashCommand: aws cloudformation validate-template\n",
      "output: \n",
      "error: None\n",
      "------------\n"
     ]
    },
    {
     "name": "stderr",
     "output_type": "stream",
     "text": [
      "\n",
      "An error occurred (ValidationError) when calling the ValidateTemplate operation: Either Template URL or Template Body must be specified.\n"
     ]
    }
   ],
   "source": [
    "import subprocess\n",
    "\n",
    "\n",
    "def get_commands():\n",
    "    bashCommand = 'aws cloudformation help --output json'\n",
    "    process = subprocess.Popen(bashCommand.split(), stdout=subprocess.PIPE)\n",
    "    output, error = process.communicate()\n",
    "    a = output.decode('utf-8')\n",
    "    b = a.split(\"__ .\\n\\nA\\x08AV\\x08VA\\x08AI\\x08IL\\x08LA\\x08AB\\x08BL\\x08LE\\x08E C\\x08CO\\x08OM\\x08MM\\x08MA\\x08AN\\x08ND\\x08DS\\x08S\\n       \")\n",
    "    #print(\"b[1]:\",b[1])\n",
    "    c = b[1].split(\" \")\n",
    "    commands = []\n",
    "    for x in c:\n",
    "        if \"-\" in x:\n",
    "            commands.append(x.strip())\n",
    "    return commands\n",
    "    \n",
    "print(\"commands:\",get_commands())\n",
    "commands = get_commands()\n",
    "for c in commands:\n",
    "    bashCommand = f\"aws cloudformation {c}\"\n",
    "    print(\"bashCommand:\",bashCommand)\n",
    "    process = subprocess.Popen(bashCommand.split(), stdout=subprocess.PIPE)\n",
    "    output, error = process.communicate()\n",
    "    a = output.decode('utf-8')\n",
    "    print(\"output:\",a)\n",
    "    print(\"error:\",error)\n",
    "    print(\"------------\")\n",
    "\n",
    "           "
   ]
  },
  {
   "cell_type": "code",
   "execution_count": 22,
   "id": "c0a08704",
   "metadata": {},
   "outputs": [
    {
     "data": {
      "text/plain": [
       "['hello this is first ', ' this is second']"
      ]
     },
     "execution_count": 22,
     "metadata": {},
     "output_type": "execute_result"
    }
   ],
   "source": [
    "ohello this is first AVAILABLE this is second\".split(\"AVAILABLE\")\n"
   ]
  },
  {
   "cell_type": "code",
   "execution_count": 9,
   "id": "3009659a",
   "metadata": {},
   "outputs": [
    {
     "name": "stdout",
     "output_type": "stream",
     "text": [
      "{'ResponseMetadata': {'HTTPHeaders': {'content-length': '6738',\n",
      "                                      'content-type': 'text/xml',\n",
      "                                      'date': 'Sun, '\n",
      "                                              '16 '\n",
      "                                              'Oct '\n",
      "                                              '2022 '\n",
      "                                              '13:56:43 '\n",
      "                                              'GMT',\n",
      "                                      'x-amzn-requestid': 'c82d7629-1798-461e-b4f9-f84a6f915edc'},\n",
      "                      'HTTPStatusCode': 200,\n",
      "                      'RequestId': 'c82d7629-1798-461e-b4f9-f84a6f915edc',\n",
      "                      'RetryAttempts': 0},\n",
      " 'StackSummaries': [{'CreationTime': datetime.datetime(2022, 10, 15, 4, 1, 40, 230000, tzinfo=tzutc()),\n",
      "                     'DeletionTime': datetime.datetime(2022, 10, 15, 4, 3, 6, 211000, tzinfo=tzutc()),\n",
      "                     'DriftInformation': {'StackDriftStatus': 'NOT_CHECKED'},\n",
      "                     'LastUpdatedTime': datetime.datetime(2022, 10, 15, 4, 1, 46, 328000, tzinfo=tzutc()),\n",
      "                     'StackId': 'arn:aws:cloudformation:us-west-2:669059827483:stack/S3CdkStack/12751620-4c3e-11ed-9654-0a7e6a4feeb3',\n",
      "                     'StackName': 'S3CdkStack',\n",
      "                     'StackStatus': 'DELETE_COMPLETE'},\n",
      "                    {'CreationTime': datetime.datetime(2022, 10, 15, 3, 59, 43, 873000, tzinfo=tzutc()),\n",
      "                     'DeletionTime': datetime.datetime(2022, 10, 15, 4, 1, 34, 36000, tzinfo=tzutc()),\n",
      "                     'DriftInformation': {'StackDriftStatus': 'NOT_CHECKED'},\n",
      "                     'LastUpdatedTime': datetime.datetime(2022, 10, 15, 3, 59, 49, 838000, tzinfo=tzutc()),\n",
      "                     'StackId': 'arn:aws:cloudformation:us-west-2:669059827483:stack/S3CdkStack/cd1ae000-4c3d-11ed-9039-061e64f77031',\n",
      "                     'StackName': 'S3CdkStack',\n",
      "                     'StackStatus': 'DELETE_COMPLETE'},\n",
      "                    {'CreationTime': datetime.datetime(2022, 10, 14, 2, 25, 8, 698000, tzinfo=tzutc()),\n",
      "                     'DeletionTime': datetime.datetime(2022, 10, 15, 4, 3, 9, 701000, tzinfo=tzutc()),\n",
      "                     'DriftInformation': {'LastCheckTimestamp': datetime.datetime(2022, 10, 15, 4, 3, 1, 895000, tzinfo=tzutc()),\n",
      "                                          'StackDriftStatus': 'IN_SYNC'},\n",
      "                     'LastUpdatedTime': datetime.datetime(2022, 10, 14, 2, 25, 14, 576000, tzinfo=tzutc()),\n",
      "                     'StackId': 'arn:aws:cloudformation:us-west-2:669059827483:stack/FirstProjectStack/6c0931d0-4b67-11ed-b84b-0223cb6273a7',\n",
      "                     'StackName': 'FirstProjectStack',\n",
      "                     'StackStatus': 'DELETE_FAILED',\n",
      "                     'StackStatusReason': 'The '\n",
      "                                          'following '\n",
      "                                          'resource(s) '\n",
      "                                          'failed '\n",
      "                                          'to '\n",
      "                                          'delete: '\n",
      "                                          '[FirstProjectQueue78A97249]. '},\n",
      "                    {'CreationTime': datetime.datetime(2022, 10, 13, 22, 5, 52, 164000, tzinfo=tzutc()),\n",
      "                     'DeletionTime': datetime.datetime(2022, 10, 15, 4, 3, 12, 666000, tzinfo=tzutc()),\n",
      "                     'DriftInformation': {'StackDriftStatus': 'NOT_CHECKED'},\n",
      "                     'LastUpdatedTime': datetime.datetime(2022, 10, 13, 22, 5, 58, 41000, tzinfo=tzutc()),\n",
      "                     'StackId': 'arn:aws:cloudformation:us-west-2:669059827483:stack/S3Stack/339e5560-4b43-11ed-9a10-02d873036edd',\n",
      "                     'StackName': 'S3Stack',\n",
      "                     'StackStatus': 'DELETE_FAILED',\n",
      "                     'StackStatusReason': 'The '\n",
      "                                          'following '\n",
      "                                          'resource(s) '\n",
      "                                          'failed '\n",
      "                                          'to '\n",
      "                                          'delete: '\n",
      "                                          '[S3Queue0CC1F6BF]. '},\n",
      "                    {'CreationTime': datetime.datetime(2022, 10, 13, 22, 4, 14, 875000, tzinfo=tzutc()),\n",
      "                     'DeletionTime': datetime.datetime(2022, 10, 15, 4, 3, 15, 749000, tzinfo=tzutc()),\n",
      "                     'DriftInformation': {'StackDriftStatus': 'NOT_CHECKED'},\n",
      "                     'LastUpdatedTime': datetime.datetime(2022, 10, 13, 22, 4, 20, 986000, tzinfo=tzutc()),\n",
      "                     'StackId': 'arn:aws:cloudformation:us-west-2:669059827483:stack/CDKToolkit/f9a68d00-4b42-11ed-8a5a-02eeeaa0f20f',\n",
      "                     'StackName': 'CDKToolkit',\n",
      "                     'StackStatus': 'DELETE_COMPLETE',\n",
      "                     'TemplateDescription': 'This '\n",
      "                                            'stack '\n",
      "                                            'includes '\n",
      "                                            'resources '\n",
      "                                            'needed '\n",
      "                                            'to '\n",
      "                                            'deploy '\n",
      "                                            'AWS '\n",
      "                                            'CDK '\n",
      "                                            'apps '\n",
      "                                            'into '\n",
      "                                            'this '\n",
      "                                            'environment'},\n",
      "                    {'CreationTime': datetime.datetime(2022, 10, 13, 4, 33, 3, 46000, tzinfo=tzutc()),\n",
      "                     'DeletionTime': datetime.datetime(2022, 10, 13, 21, 45, 34, 87000, tzinfo=tzutc()),\n",
      "                     'DriftInformation': {'StackDriftStatus': 'NOT_CHECKED'},\n",
      "                     'LastUpdatedTime': datetime.datetime(2022, 10, 13, 4, 33, 8, 851000, tzinfo=tzutc()),\n",
      "                     'StackId': 'arn:aws:cloudformation:us-west-2:669059827483:stack/cdk-example-pipeline-pipeline/1fda8eb0-4ab0-11ed-ab61-06d25c8e700f',\n",
      "                     'StackName': 'cdk-example-pipeline-pipeline',\n",
      "                     'StackStatus': 'DELETE_COMPLETE'},\n",
      "                    {'CreationTime': datetime.datetime(2022, 10, 13, 4, 29, 3, 869000, tzinfo=tzutc()),\n",
      "                     'DeletionTime': datetime.datetime(2022, 10, 15, 4, 3, 19, 665000, tzinfo=tzutc()),\n",
      "                     'DriftInformation': {'StackDriftStatus': 'NOT_CHECKED'},\n",
      "                     'LastUpdatedTime': datetime.datetime(2022, 10, 13, 4, 29, 9, 743000, tzinfo=tzutc()),\n",
      "                     'StackId': 'arn:aws:cloudformation:us-west-2:669059827483:stack/cdk-example-pipeline-base/f4b5e640-4aae-11ed-a741-0202bb58eff9',\n",
      "                     'StackName': 'cdk-example-pipeline-base',\n",
      "                     'StackStatus': 'DELETE_COMPLETE'},\n",
      "                    {'CreationTime': datetime.datetime(2022, 10, 12, 19, 32, 54, 591000, tzinfo=tzutc()),\n",
      "                     'DeletionTime': datetime.datetime(2022, 10, 13, 21, 45, 43, 529000, tzinfo=tzutc()),\n",
      "                     'DriftInformation': {'StackDriftStatus': 'NOT_CHECKED'},\n",
      "                     'LastUpdatedTime': datetime.datetime(2022, 10, 12, 19, 33, 0, 850000, tzinfo=tzutc()),\n",
      "                     'StackId': 'arn:aws:cloudformation:us-west-2:669059827483:stack/CDKToolkit/aafe2200-4a64-11ed-b4f4-0a004ee55547',\n",
      "                     'StackName': 'CDKToolkit',\n",
      "                     'StackStatus': 'DELETE_COMPLETE',\n",
      "                     'TemplateDescription': 'This '\n",
      "                                            'stack '\n",
      "                                            'includes '\n",
      "                                            'resources '\n",
      "                                            'needed '\n",
      "                                            'to '\n",
      "                                            'deploy '\n",
      "                                            'AWS '\n",
      "                                            'CDK '\n",
      "                                            'apps '\n",
      "                                            'into '\n",
      "                                            'this '\n",
      "                                            'environment'},\n",
      "                    {'CreationTime': datetime.datetime(2020, 12, 23, 20, 52, 24, 146000, tzinfo=tzutc()),\n",
      "                     'DeletionTime': datetime.datetime(2022, 10, 13, 21, 45, 47, 17000, tzinfo=tzutc()),\n",
      "                     'DriftInformation': {'StackDriftStatus': 'NOT_CHECKED'},\n",
      "                     'StackId': 'arn:aws:cloudformation:us-west-2:669059827483:stack/EC2ContainerService-testcluster/c20497f0-4560-11eb-97fa-06b95fe2dfef',\n",
      "                     'StackName': 'EC2ContainerService-testcluster',\n",
      "                     'StackStatus': 'DELETE_COMPLETE',\n",
      "                     'TemplateDescription': 'AWS '\n",
      "                                            'CloudFormation '\n",
      "                                            'template '\n",
      "                                            'to '\n",
      "                                            'create '\n",
      "                                            'a '\n",
      "                                            'new '\n",
      "                                            'VPC '\n",
      "                                            'to '\n",
      "                                            'work '\n",
      "                                            'with '\n",
      "                                            'Fargate '\n",
      "                                            'in '\n",
      "                                            'Create '\n",
      "                                            'Cluster '\n",
      "                                            'Wizard\\n'},\n",
      "                    {'CreationTime': datetime.datetime(2020, 12, 22, 19, 36, 2, 700000, tzinfo=tzutc()),\n",
      "                     'DeletionTime': datetime.datetime(2022, 10, 13, 21, 45, 50, 759000, tzinfo=tzutc()),\n",
      "                     'DriftInformation': {'StackDriftStatus': 'NOT_CHECKED'},\n",
      "                     'StackId': 'arn:aws:cloudformation:us-west-2:669059827483:stack/amazon-ecs-cli-setup-tutorial/ecd11e10-448c-11eb-b92d-061af764af5d',\n",
      "                     'StackName': 'amazon-ecs-cli-setup-tutorial',\n",
      "                     'StackStatus': 'DELETE_COMPLETE',\n",
      "                     'TemplateDescription': 'AWS '\n",
      "                                            'CloudFormation '\n",
      "                                            'template '\n",
      "                                            'to '\n",
      "                                            'create '\n",
      "                                            'resources '\n",
      "                                            'required '\n",
      "                                            'to '\n",
      "                                            'run '\n",
      "                                            'tasks '\n",
      "                                            'on '\n",
      "                                            'an '\n",
      "                                            'ECS '\n",
      "                                            'cluster.'}]}\n",
      "------\n",
      "s1: {'Stacks': [{'StackId': 'arn:aws:cloudformation:us-west-2:669059827483:stack/S3Stack/339e5560-4b43-11ed-9a10-02d873036edd', 'StackName': 'S3Stack', 'Parameters': [{'ParameterKey': 'BootstrapVersion', 'ParameterValue': '/cdk-bootstrap/hnb659fds/version', 'ResolvedValue': '14'}], 'CreationTime': datetime.datetime(2022, 10, 13, 22, 5, 52, 164000, tzinfo=tzutc()), 'DeletionTime': datetime.datetime(2022, 10, 15, 4, 3, 12, 666000, tzinfo=tzutc()), 'LastUpdatedTime': datetime.datetime(2022, 10, 13, 22, 5, 58, 41000, tzinfo=tzutc()), 'RollbackConfiguration': {}, 'StackStatus': 'DELETE_FAILED', 'StackStatusReason': 'The following resource(s) failed to delete: [S3Queue0CC1F6BF]. ', 'DisableRollback': False, 'NotificationARNs': [], 'Capabilities': ['CAPABILITY_IAM', 'CAPABILITY_NAMED_IAM', 'CAPABILITY_AUTO_EXPAND'], 'RoleARN': 'arn:aws:iam::669059827483:role/cdk-hnb659fds-cfn-exec-role-669059827483-us-west-2', 'Tags': [], 'EnableTerminationProtection': False, 'DriftInformation': {'StackDriftStatus': 'NOT_CHECKED'}}], 'ResponseMetadata': {'RequestId': 'a65ecd8f-a342-4161-a479-3c454b73adb1', 'HTTPStatusCode': 200, 'HTTPHeaders': {'x-amzn-requestid': 'a65ecd8f-a342-4161-a479-3c454b73adb1', 'content-type': 'text/xml', 'content-length': '1715', 'date': 'Sun, 16 Oct 2022 13:56:43 GMT'}, 'RetryAttempts': 0}}\n"
     ]
    }
   ],
   "source": [
    "import boto3\n",
    "import pprint\n",
    "\n",
    "client = boto3.client('cloudformation')\n",
    "stacks = client.list_stacks()\n",
    "#pp = pprint.PrettyPrinter(width=41, compact=True)\n",
    "pp = pprint.PrettyPrinter(width=41)\n",
    "pp.pprint(stacks)\n",
    "\n",
    "print(\"------\")\n",
    "s1 = client.describe_stacks(\n",
    "    StackName = \"S3Stack\"\n",
    ")\n",
    "print(\"s1:\",s1)"
   ]
  },
  {
   "cell_type": "code",
   "execution_count": null,
   "id": "24ec45ec",
   "metadata": {},
   "outputs": [],
   "source": []
  }
 ],
 "metadata": {
  "kernelspec": {
   "display_name": "Python 3 (ipykernel)",
   "language": "python",
   "name": "python3"
  },
  "language_info": {
   "codemirror_mode": {
    "name": "ipython",
    "version": 3
   },
   "file_extension": ".py",
   "mimetype": "text/x-python",
   "name": "python",
   "nbconvert_exporter": "python",
   "pygments_lexer": "ipython3",
   "version": "3.8.13"
  }
 },
 "nbformat": 4,
 "nbformat_minor": 5
}
